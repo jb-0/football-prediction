{
 "cells": [
  {
   "cell_type": "code",
   "execution_count": 1,
   "metadata": {},
   "outputs": [],
   "source": [
    "import numpy as np\n",
    "import pandas as pd\n",
    "import matplotlib.pyplot as plt\n",
    "%matplotlib inline\n",
    "import seaborn as sns"
   ]
  },
  {
   "cell_type": "code",
   "execution_count": 5,
   "metadata": {},
   "outputs": [],
   "source": [
    "# Import the tweets dataset, this is a cut down version of the full tweet \n",
    "# dataset per the operations performed in the file \"eda-rea-v-liv-2018\"\n",
    "en_tweets_df = pd.read_csv('en_tweets_df.csv', lineterminator='\\n')"
   ]
  },
  {
   "cell_type": "code",
   "execution_count": 11,
   "metadata": {},
   "outputs": [
    {
     "data": {
      "text/html": [
       "<div>\n",
       "<style scoped>\n",
       "    .dataframe tbody tr th:only-of-type {\n",
       "        vertical-align: middle;\n",
       "    }\n",
       "\n",
       "    .dataframe tbody tr th {\n",
       "        vertical-align: top;\n",
       "    }\n",
       "\n",
       "    .dataframe thead th {\n",
       "        text-align: right;\n",
       "    }\n",
       "</style>\n",
       "<table border=\"1\" class=\"dataframe\">\n",
       "  <thead>\n",
       "    <tr style=\"text-align: right;\">\n",
       "      <th></th>\n",
       "      <th>Unnamed: 0</th>\n",
       "      <th>id</th>\n",
       "      <th>text</th>\n",
       "      <th>lang</th>\n",
       "      <th>retweeted_status</th>\n",
       "      <th>created_at</th>\n",
       "      <th>user</th>\n",
       "      <th>tweet_text</th>\n",
       "      <th>is_retweet</th>\n",
       "      <th>created_at_hour_minute</th>\n",
       "    </tr>\n",
       "  </thead>\n",
       "  <tbody>\n",
       "    <tr>\n",
       "      <th>0</th>\n",
       "      <td>0</td>\n",
       "      <td>1.000366e+18</td>\n",
       "      <td>MATCH-DAY\\n\\nReal Madrid vs Liverpool\\n\\n#UCLF...</td>\n",
       "      <td>en</td>\n",
       "      <td>NaN</td>\n",
       "      <td>2018-05-26 13:18:30+00:00</td>\n",
       "      <td>{'id': 2846595478, 'id_str': '2846595478', 'na...</td>\n",
       "      <td>MATCH-DAY\\n\\nReal Madrid vs Liverpool\\n\\n#UCLF...</td>\n",
       "      <td>False</td>\n",
       "      <td>2018-05-26 13:18:00+00:00</td>\n",
       "    </tr>\n",
       "    <tr>\n",
       "      <th>1</th>\n",
       "      <td>4</td>\n",
       "      <td>1.000366e+18</td>\n",
       "      <td>RT @ECG_Unofficial: We will like to categorica...</td>\n",
       "      <td>en</td>\n",
       "      <td>{'created_at': 'Sat May 26 11:14:44 +0000 2018...</td>\n",
       "      <td>2018-05-26 13:18:31+00:00</td>\n",
       "      <td>{'id': 902735000445095938, 'id_str': '90273500...</td>\n",
       "      <td>RT @ECG_Unofficial: We will like to categorica...</td>\n",
       "      <td>True</td>\n",
       "      <td>2018-05-26 13:18:00+00:00</td>\n",
       "    </tr>\n",
       "    <tr>\n",
       "      <th>2</th>\n",
       "      <td>5</td>\n",
       "      <td>1.000366e+18</td>\n",
       "      <td>Real Madrid.... LETS GO!!!!!!!!!!!!!!!!!!!!!!!...</td>\n",
       "      <td>en</td>\n",
       "      <td>NaN</td>\n",
       "      <td>2018-05-26 13:18:31+00:00</td>\n",
       "      <td>{'id': 240672622, 'id_str': '240672622', 'name...</td>\n",
       "      <td>Real Madrid.... LETS GO!!!!!!!!!!!!!!!!!!!!!!!...</td>\n",
       "      <td>False</td>\n",
       "      <td>2018-05-26 13:18:00+00:00</td>\n",
       "    </tr>\n",
       "    <tr>\n",
       "      <th>3</th>\n",
       "      <td>7</td>\n",
       "      <td>1.000366e+18</td>\n",
       "      <td>RT @YNWA_Claire: Please? 🙏🏼\\n\\n#UCLFinal https...</td>\n",
       "      <td>en</td>\n",
       "      <td>{'created_at': 'Sat May 26 13:13:45 +0000 2018...</td>\n",
       "      <td>2018-05-26 13:18:31+00:00</td>\n",
       "      <td>{'id': 277019564, 'id_str': '277019564', 'name...</td>\n",
       "      <td>RT @YNWA_Claire: Please? 🙏🏼\\n\\n#UCLFinal https...</td>\n",
       "      <td>True</td>\n",
       "      <td>2018-05-26 13:18:00+00:00</td>\n",
       "    </tr>\n",
       "    <tr>\n",
       "      <th>4</th>\n",
       "      <td>8</td>\n",
       "      <td>1.000366e+18</td>\n",
       "      <td>RT @ChampionsLeague: Two European giants go he...</td>\n",
       "      <td>en</td>\n",
       "      <td>{'created_at': 'Sat May 26 13:00:01 +0000 2018...</td>\n",
       "      <td>2018-05-26 13:18:31+00:00</td>\n",
       "      <td>{'id': 957644286350315521, 'id_str': '95764428...</td>\n",
       "      <td>RT @ChampionsLeague: Two European giants go he...</td>\n",
       "      <td>True</td>\n",
       "      <td>2018-05-26 13:18:00+00:00</td>\n",
       "    </tr>\n",
       "  </tbody>\n",
       "</table>\n",
       "</div>"
      ],
      "text/plain": [
       "   Unnamed: 0            id  \\\n",
       "0           0  1.000366e+18   \n",
       "1           4  1.000366e+18   \n",
       "2           5  1.000366e+18   \n",
       "3           7  1.000366e+18   \n",
       "4           8  1.000366e+18   \n",
       "\n",
       "                                                text lang  \\\n",
       "0  MATCH-DAY\\n\\nReal Madrid vs Liverpool\\n\\n#UCLF...   en   \n",
       "1  RT @ECG_Unofficial: We will like to categorica...   en   \n",
       "2  Real Madrid.... LETS GO!!!!!!!!!!!!!!!!!!!!!!!...   en   \n",
       "3  RT @YNWA_Claire: Please? 🙏🏼\\n\\n#UCLFinal https...   en   \n",
       "4  RT @ChampionsLeague: Two European giants go he...   en   \n",
       "\n",
       "                                    retweeted_status  \\\n",
       "0                                                NaN   \n",
       "1  {'created_at': 'Sat May 26 11:14:44 +0000 2018...   \n",
       "2                                                NaN   \n",
       "3  {'created_at': 'Sat May 26 13:13:45 +0000 2018...   \n",
       "4  {'created_at': 'Sat May 26 13:00:01 +0000 2018...   \n",
       "\n",
       "                  created_at  \\\n",
       "0  2018-05-26 13:18:30+00:00   \n",
       "1  2018-05-26 13:18:31+00:00   \n",
       "2  2018-05-26 13:18:31+00:00   \n",
       "3  2018-05-26 13:18:31+00:00   \n",
       "4  2018-05-26 13:18:31+00:00   \n",
       "\n",
       "                                                user  \\\n",
       "0  {'id': 2846595478, 'id_str': '2846595478', 'na...   \n",
       "1  {'id': 902735000445095938, 'id_str': '90273500...   \n",
       "2  {'id': 240672622, 'id_str': '240672622', 'name...   \n",
       "3  {'id': 277019564, 'id_str': '277019564', 'name...   \n",
       "4  {'id': 957644286350315521, 'id_str': '95764428...   \n",
       "\n",
       "                                          tweet_text  is_retweet  \\\n",
       "0  MATCH-DAY\\n\\nReal Madrid vs Liverpool\\n\\n#UCLF...       False   \n",
       "1  RT @ECG_Unofficial: We will like to categorica...        True   \n",
       "2  Real Madrid.... LETS GO!!!!!!!!!!!!!!!!!!!!!!!...       False   \n",
       "3  RT @YNWA_Claire: Please? 🙏🏼\\n\\n#UCLFinal https...        True   \n",
       "4  RT @ChampionsLeague: Two European giants go he...        True   \n",
       "\n",
       "      created_at_hour_minute  \n",
       "0  2018-05-26 13:18:00+00:00  \n",
       "1  2018-05-26 13:18:00+00:00  \n",
       "2  2018-05-26 13:18:00+00:00  \n",
       "3  2018-05-26 13:18:00+00:00  \n",
       "4  2018-05-26 13:18:00+00:00  "
      ]
     },
     "execution_count": 11,
     "metadata": {},
     "output_type": "execute_result"
    }
   ],
   "source": [
    "en_tweets_df.head()"
   ]
  },
  {
   "cell_type": "code",
   "execution_count": 13,
   "metadata": {},
   "outputs": [
    {
     "name": "stderr",
     "output_type": "stream",
     "text": [
      "[nltk_data] Downloading package punkt to /Users/jamie/nltk_data...\n",
      "[nltk_data]   Unzipping tokenizers/punkt.zip.\n"
     ]
    }
   ],
   "source": [
    "# Import NLTK libraries\n",
    "import nltk\n",
    "nltk.download('punkt')\n",
    "from nltk.tokenize import word_tokenize"
   ]
  },
  {
   "cell_type": "code",
   "execution_count": 47,
   "metadata": {},
   "outputs": [],
   "source": [
    "# word_tokenize\n",
    "en_tweets_df['tokenized_words'] = en_tweets_df.apply(lambda row: word_tokenize(row['tweet_text']), axis=1)\n"
   ]
  },
  {
   "cell_type": "code",
   "execution_count": 49,
   "metadata": {},
   "outputs": [
    {
     "name": "stdout",
     "output_type": "stream",
     "text": [
      "[(':', 3), ('#', 2), ('https', 2), ('MATCH-DAY', 1), ('Real', 1), ('Madrid', 1), ('vs', 1), ('Liverpool', 1), ('UCLFinal', 1), ('LFC', 1), ('Free', 1), ('Live', 1), ('Stream', 1), ('HD', 1), ('Here', 1), ('//t.co/PHAepWsA6o', 1), ('//t.co/T6mWNz14lb', 1)]\n"
     ]
    }
   ],
   "source": [
    "from collections import Counter\n",
    "\n",
    "# word_tokenized = word_tokenize()\n",
    "bow = Counter(en_tweets_df['tokenized_words'][0])\n",
    "print(bow.most_common())"
   ]
  },
  {
   "cell_type": "code",
   "execution_count": 50,
   "metadata": {},
   "outputs": [
    {
     "data": {
      "text/plain": [
       "Counter({'MATCH-DAY': 1,\n",
       "         'Real': 1,\n",
       "         'Madrid': 1,\n",
       "         'vs': 1,\n",
       "         'Liverpool': 1,\n",
       "         '#': 2,\n",
       "         'UCLFinal': 1,\n",
       "         'LFC': 1,\n",
       "         'Free': 1,\n",
       "         'Live': 1,\n",
       "         'Stream': 1,\n",
       "         'HD': 1,\n",
       "         'Here': 1,\n",
       "         ':': 3,\n",
       "         'https': 2,\n",
       "         '//t.co/PHAepWsA6o': 1,\n",
       "         '//t.co/T6mWNz14lb': 1})"
      ]
     },
     "execution_count": 50,
     "metadata": {},
     "output_type": "execute_result"
    }
   ],
   "source": [
    "bow"
   ]
  },
  {
   "cell_type": "code",
   "execution_count": null,
   "metadata": {},
   "outputs": [],
   "source": []
  }
 ],
 "metadata": {
  "kernelspec": {
   "display_name": "Python 3",
   "language": "python",
   "name": "python3"
  },
  "language_info": {
   "codemirror_mode": {
    "name": "ipython",
    "version": 3
   },
   "file_extension": ".py",
   "mimetype": "text/x-python",
   "name": "python",
   "nbconvert_exporter": "python",
   "pygments_lexer": "ipython3",
   "version": "3.8.3"
  }
 },
 "nbformat": 4,
 "nbformat_minor": 4
}
