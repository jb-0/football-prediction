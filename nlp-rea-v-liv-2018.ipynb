{
 "cells": [
  {
   "cell_type": "markdown",
   "metadata": {},
   "source": [
    "# Table of contents\n",
    "* [Word Tokenization](#word-tokenization)\n",
    "    * [Most Common Words](#most-common-words)\n",
    "    * [Feature Creation](#most-common-words-feature-creation)"
   ]
  },
  {
   "cell_type": "code",
   "execution_count": 1,
   "metadata": {},
   "outputs": [],
   "source": [
    "import numpy as np\n",
    "import pandas as pd\n",
    "import matplotlib.pyplot as plt\n",
    "%matplotlib inline\n",
    "import seaborn as sns"
   ]
  },
  {
   "cell_type": "code",
   "execution_count": 2,
   "metadata": {},
   "outputs": [],
   "source": [
    "# Import the tweets dataset, this is a cut down version of the full tweet \n",
    "# dataset per the operations performed in the file \"eda-rea-v-liv-2018\"\n",
    "en_tweets_df = pd.read_csv('en_tweets_df.csv', lineterminator='\\n')"
   ]
  },
  {
   "cell_type": "code",
   "execution_count": 3,
   "metadata": {},
   "outputs": [],
   "source": [
    "# As this dataset is generated from earlier work it carries its prior index, the below changes the column name\n",
    "en_tweets_df.rename(columns={'Unnamed: 0':'original_df_index'}, inplace=True)"
   ]
  },
  {
   "cell_type": "code",
   "execution_count": 2,
   "metadata": {},
   "outputs": [
    {
     "name": "stderr",
     "output_type": "stream",
     "text": [
      "[nltk_data] Downloading package punkt to /home/jupyter/nltk_data...\n",
      "[nltk_data]   Package punkt is already up-to-date!\n",
      "[nltk_data] Downloading package stopwords to\n",
      "[nltk_data]     /home/jupyter/nltk_data...\n",
      "[nltk_data]   Package stopwords is already up-to-date!\n"
     ]
    }
   ],
   "source": [
    "# Import NLTK libraries\n",
    "import nltk\n",
    "from nltk.tokenize import word_tokenize\n",
    "from nltk import FreqDist\n",
    "from nltk.corpus import stopwords\n",
    "nltk.download('punkt')\n",
    "nltk.download('stopwords')\n",
    "from nltk.stem import PorterStemmer\n",
    "from sklearn import preprocessing\n",
    "\n",
    "import re"
   ]
  },
  {
   "cell_type": "markdown",
   "metadata": {},
   "source": [
    "# Word Tokenization <a class=\"anchor\" id=\"word-tokenization\"></a>"
   ]
  },
  {
   "cell_type": "code",
   "execution_count": 34,
   "metadata": {},
   "outputs": [],
   "source": [
    "# Create a function that returns tokenizes, cleans and stems words for a tweet\n",
    "english_stopwords = stopwords.words('english')\n",
    "\n",
    "# Context specific stop words (refer \"most common words\" section below for identification approach\n",
    "# rt = short for retweet, this does not provide any insights and a column already exists to identify retweets\n",
    "# http & https = the start of web links these provide little value as \"words\", future work: these could be\n",
    "# to build a feature along thelines of \"Contains Web Link?\"\n",
    "# uclfinal, championsleague, championsleaguefinal = \"hashtag\"/topical words, given the original tweet dataset\n",
    "# contained only tweets that had a hashtag of uclfinal these words do not add value to the analysis\n",
    "custom_stopwords = ['rt', 'http', 'https', 'uclfinal', 'championsleague', 'championsleaguefinal', 'lfcrma',  \n",
    "                    'liverpoolvsrealmadrid', 'livrma', 'realiv', 'realliverpool', 'realmadridliverpool', 'realmadridvsliverpool', \n",
    "                    'rmalfc', 'rmaliv', 'rmavlfc', 'rmavliv', 'rmavsliv', 'rmliv', 'rmvsliv', 'retweet', 'retweeted']\n",
    "\n",
    "ps = PorterStemmer()\n",
    "\n",
    "# Combine the two stop words lists\n",
    "stop_words = english_stopwords + custom_stopwords\n",
    "\n",
    "def TokenizeTweet(tweet):\n",
    "    word_tokenized = word_tokenize(tweet)\n",
    "\n",
    "    \n",
    "    cleaned_words_tokenized = [word.lower().strip() for word in word_tokenized] # lowercasing\n",
    "    \n",
    "    cleaned_words_tokenized = [re.sub('((www\\.[^\\s]+)|(https?://[^\\s]+))', 'URL', word) for word in cleaned_words_tokenized] # remove URLs\n",
    "    cleaned_words_tokenized = [re.sub('@[^\\s]+', 'AT_USER', word) for word in cleaned_words_tokenized] # remove usernames\n",
    "    cleaned_words_tokenized = [re.sub(r'#([^\\s]+)', r'\\1', word) for word in cleaned_words_tokenized] # remove the # in #hashtag   \n",
    "    cleaned_words_tokenized = [word.replace('(','').replace(')','') for word in cleaned_words_tokenized if word.isalpha()]  # replacing some unwanted things\n",
    "    \n",
    "    # Ideally all checks could be moved into this single for loop, rather than iterating words multiple times.\n",
    "    for n, i in enumerate(cleaned_words_tokenized):\n",
    "        if i in ['liverpool', 'lfc', 'ufcliverpool', 'liv']:\n",
    "            cleaned_words_tokenized[n] = 'liverpoolfc'\n",
    "            \n",
    "        if i in ['rma', 'madrid']:\n",
    "            cleaned_words_tokenized[n] = 'realmadrid'\n",
    "    \n",
    "    cleaned_words_tokenized = [word for word in cleaned_words_tokenized if word not in stop_words] # removing stopwords\n",
    "    cleaned_words_tokenized = [ps.stem(word) for word in cleaned_words_tokenized] # stemming\n",
    "    \n",
    "    return cleaned_words_tokenized"
   ]
  },
  {
   "cell_type": "code",
   "execution_count": 35,
   "metadata": {},
   "outputs": [],
   "source": [
    "# Tokenize words in tweets\n",
    "en_tweets_df['tokenized_words'] = en_tweets_df.apply(lambda row: TokenizeTweet(row['tweet_text']), axis=1)"
   ]
  },
  {
   "cell_type": "markdown",
   "metadata": {},
   "source": [
    "### Most Common Words <a class=\"anchor\" id=\"most-common-words\"></a>"
   ]
  },
  {
   "cell_type": "code",
   "execution_count": 43,
   "metadata": {
    "scrolled": true
   },
   "outputs": [
    {
     "data": {
      "text/plain": [
       "[('liverpoolfc', 48196),\n",
       " ('salah', 37548),\n",
       " ('ramo', 31736),\n",
       " ('realmadrid', 28476),\n",
       " ('bale', 22325),\n",
       " ('goal', 21128),\n",
       " ('real', 20624),\n",
       " ('sergio', 14425),\n",
       " ('gareth', 11275),\n",
       " ('final', 10888),\n",
       " ('world', 8579),\n",
       " ('mo', 8537),\n",
       " ('kariu', 8418),\n",
       " ('one', 7910),\n",
       " ('ronaldo', 7447),\n",
       " ('cup', 7347),\n",
       " ('time', 7302),\n",
       " ('shoulder', 7209),\n",
       " ('game', 7119),\n",
       " ('like', 7022),\n",
       " ('win', 6609),\n",
       " ('score', 6590),\n",
       " ('ever', 6378),\n",
       " ('watch', 6345),\n",
       " ('come', 6275)]"
      ]
     },
     "execution_count": 43,
     "metadata": {},
     "output_type": "execute_result"
    }
   ],
   "source": [
    "# There are three key benefits to finding the most common words:\n",
    "    # 1. Further refinements could be made to TokenizedWords in terms of words to exclude\n",
    "    # 2. We can obtain further insights into the data\n",
    "    # 3. Can select key words that could be used to generate features    \n",
    "\n",
    "# Convert tokenized words column into a single list of words\n",
    "words_list = en_tweets_df['tokenized_words'].values.tolist()\n",
    "\n",
    "# Flatten the list\n",
    "flattened_words_list = [j for sub in words_list for j in sub]\n",
    "\n",
    "# Find the most common words\n",
    "fdist = FreqDist(x.lower() for x in flattened_words_list)\n",
    "fdist.most_common(25)"
   ]
  },
  {
   "cell_type": "markdown",
   "metadata": {},
   "source": [
    "### TF-IDF Feature Creation  <a class=\"anchor\" id=\"most-common-words-feature-creation\"></a>"
   ]
  },
  {
   "cell_type": "code",
   "execution_count": 7,
   "metadata": {},
   "outputs": [
    {
     "data": {
      "text/html": [
       "<div>\n",
       "<style scoped>\n",
       "    .dataframe tbody tr th:only-of-type {\n",
       "        vertical-align: middle;\n",
       "    }\n",
       "\n",
       "    .dataframe tbody tr th {\n",
       "        vertical-align: top;\n",
       "    }\n",
       "\n",
       "    .dataframe thead th {\n",
       "        text-align: right;\n",
       "    }\n",
       "</style>\n",
       "<table border=\"1\" class=\"dataframe\">\n",
       "  <thead>\n",
       "    <tr style=\"text-align: right;\">\n",
       "      <th></th>\n",
       "      <th>id</th>\n",
       "      <th>tweet_text</th>\n",
       "      <th>tokenized_words</th>\n",
       "    </tr>\n",
       "  </thead>\n",
       "  <tbody>\n",
       "    <tr>\n",
       "      <th>48270</th>\n",
       "      <td>1.000457e+18</td>\n",
       "      <td>And now it's Carvajal, 😢😢\\nWhy God why... #UCL...</td>\n",
       "      <td>[carvaj, god]</td>\n",
       "    </tr>\n",
       "    <tr>\n",
       "      <th>180434</th>\n",
       "      <td>1.000477e+18</td>\n",
       "      <td>RT @ChampionsLeague: ⏰FULL TIME! ⏰\\nReal Madri...</td>\n",
       "      <td>[time, real, realmadrid, make, three, ucl, tit...</td>\n",
       "    </tr>\n",
       "    <tr>\n",
       "      <th>86128</th>\n",
       "      <td>1.000463e+18</td>\n",
       "      <td>@AlexiLalas are ya sure? https://t.co/MVOR23rwiv</td>\n",
       "      <td>[alexilala, ya, sure]</td>\n",
       "    </tr>\n",
       "    <tr>\n",
       "      <th>175903</th>\n",
       "      <td>1.000476e+18</td>\n",
       "      <td>RT @iAmAClipse: Here for this... https://t.co/...</td>\n",
       "      <td>[iamaclips]</td>\n",
       "    </tr>\n",
       "    <tr>\n",
       "      <th>80848</th>\n",
       "      <td>1.000462e+18</td>\n",
       "      <td>@SimpsonsQOTD Posted... \\nhttps://t.co/vsrKt1PSmp</td>\n",
       "      <td>[simpsonsqotd, post]</td>\n",
       "    </tr>\n",
       "  </tbody>\n",
       "</table>\n",
       "</div>"
      ],
      "text/plain": [
       "                  id                                         tweet_text  \\\n",
       "48270   1.000457e+18  And now it's Carvajal, 😢😢\\nWhy God why... #UCL...   \n",
       "180434  1.000477e+18  RT @ChampionsLeague: ⏰FULL TIME! ⏰\\nReal Madri...   \n",
       "86128   1.000463e+18   @AlexiLalas are ya sure? https://t.co/MVOR23rwiv   \n",
       "175903  1.000476e+18  RT @iAmAClipse: Here for this... https://t.co/...   \n",
       "80848   1.000462e+18  @SimpsonsQOTD Posted... \\nhttps://t.co/vsrKt1PSmp   \n",
       "\n",
       "                                          tokenized_words  \n",
       "48270                                       [carvaj, god]  \n",
       "180434  [time, real, realmadrid, make, three, ucl, tit...  \n",
       "86128                               [alexilala, ya, sure]  \n",
       "175903                                        [iamaclips]  \n",
       "80848                                [simpsonsqotd, post]  "
      ]
     },
     "execution_count": 7,
     "metadata": {},
     "output_type": "execute_result"
    }
   ],
   "source": [
    "en_tweets_df_text_only = en_tweets_df[['id','tweet_text', 'tokenized_words']]\n",
    "en_tweets_df_text_only.sample(5)"
   ]
  },
  {
   "cell_type": "code",
   "execution_count": null,
   "metadata": {},
   "outputs": [],
   "source": [
    "en_tweets_df['flatten_tokenized_words'] = en_tweets_df.apply(lambda row: ' '.join(row['tokenized_words']), axis=1)"
   ]
  },
  {
   "cell_type": "code",
   "execution_count": 39,
   "metadata": {},
   "outputs": [],
   "source": [
    "from sklearn.feature_extraction.text import TfidfVectorizer\n",
    "v = TfidfVectorizer()\n",
    "x = v.fit_transform(en_tweets_df['flatten_tokenized_words'])"
   ]
  },
  {
   "cell_type": "code",
   "execution_count": 68,
   "metadata": {},
   "outputs": [
    {
     "data": {
      "text/plain": [
       "25654"
      ]
     },
     "execution_count": 68,
     "metadata": {},
     "output_type": "execute_result"
    }
   ],
   "source": [
    "len(v.get_feature_names())"
   ]
  },
  {
   "cell_type": "markdown",
   "metadata": {},
   "source": [
    "### Models <a class=\"anchor\" id=\"most-common-words-models\"></a>"
   ]
  },
  {
   "cell_type": "markdown",
   "metadata": {},
   "source": [
    "#### KMeans <a class=\"anchor\" id=\"most-common-words-kmeans\"></a>"
   ]
  },
  {
   "cell_type": "code",
   "execution_count": 58,
   "metadata": {},
   "outputs": [],
   "source": [
    "import sklearn\n",
    "import sklearn.metrics as sm\n",
    "from sklearn.cluster import KMeans\n",
    "from sklearn.preprocessing import scale\n",
    "from sklearn import datasets\n",
    "from sklearn.metrics import confusion_matrix, classification_report\n",
    "from sklearn.decomposition import PCA"
   ]
  },
  {
   "cell_type": "code",
   "execution_count": 60,
   "metadata": {},
   "outputs": [
    {
     "ename": "NameError",
     "evalue": "name 'num_of_FT_cols' is not defined",
     "output_type": "error",
     "traceback": [
      "\u001b[0;31m---------------------------------------------------------------------------\u001b[0m",
      "\u001b[0;31mNameError\u001b[0m                                 Traceback (most recent call last)",
      "\u001b[0;32m<ipython-input-60-9597478725f8>\u001b[0m in \u001b[0;36m<module>\u001b[0;34m\u001b[0m\n\u001b[1;32m     21\u001b[0m \u001b[0mplt\u001b[0m\u001b[0;34m.\u001b[0m\u001b[0mxlabel\u001b[0m\u001b[0;34m(\u001b[0m\u001b[0;34m'k'\u001b[0m\u001b[0;34m)\u001b[0m\u001b[0;34m\u001b[0m\u001b[0;34m\u001b[0m\u001b[0m\n\u001b[1;32m     22\u001b[0m \u001b[0mplt\u001b[0m\u001b[0;34m.\u001b[0m\u001b[0mylabel\u001b[0m\u001b[0;34m(\u001b[0m\u001b[0;34m'Distortion'\u001b[0m\u001b[0;34m)\u001b[0m\u001b[0;34m\u001b[0m\u001b[0;34m\u001b[0m\u001b[0m\n\u001b[0;32m---> 23\u001b[0;31m \u001b[0mplt\u001b[0m\u001b[0;34m.\u001b[0m\u001b[0mtitle\u001b[0m\u001b[0;34m(\u001b[0m\u001b[0;34mf'The Elbow Method showing the optimal k with {num_of_FT_cols} feature columns'\u001b[0m\u001b[0;34m)\u001b[0m\u001b[0;34m\u001b[0m\u001b[0;34m\u001b[0m\u001b[0m\n\u001b[0m\u001b[1;32m     24\u001b[0m \u001b[0mplt\u001b[0m\u001b[0;34m.\u001b[0m\u001b[0mshow\u001b[0m\u001b[0;34m(\u001b[0m\u001b[0;34m)\u001b[0m\u001b[0;34m\u001b[0m\u001b[0;34m\u001b[0m\u001b[0m\n",
      "\u001b[0;31mNameError\u001b[0m: name 'num_of_FT_cols' is not defined"
     ]
    },
    {
     "data": {
      "image/png": "[encoded data removed]",
      "text/plain": [
       "<Figure size 720x360 with 1 Axes>"
      ]
     },
     "metadata": {
      "needs_background": "light"
     },
     "output_type": "display_data"
    }
   ],
   "source": [
    "pd.options.mode.chained_assignment = None  # default='warn'\n",
    "\n",
    "distortions = []\n",
    "\n",
    "K = range(3, 11)\n",
    "for k in K:\n",
    "    X = x\n",
    "\n",
    "    # Fit and predict model\n",
    "    kmeans = KMeans(n_clusters=k, random_state=8)\n",
    "    kmeans.fit(X)\n",
    "    distortions.append(kmeans.inertia_)\n",
    "        \n",
    "plt.figure(figsize=(10, 5))\n",
    "plt.plot(K, distortions, 'bx-')\n",
    "plt.xlabel('k')\n",
    "plt.ylabel('Distortion')\n",
    "plt.title(f'The Elbow Method showing the optimal k with')\n",
    "plt.show()"
   ]
  },
  {
   "cell_type": "code",
   "execution_count": 74,
   "metadata": {},
   "outputs": [],
   "source": [
    "X = x\n",
    "\n",
    "# Fit and predict model\n",
    "kmeans = KMeans(n_clusters=6, random_state=8)\n",
    "kmeans.fit(X)\n",
    "y_kmeans = kmeans.predict(X)\n",
    "\n"
   ]
  },
  {
   "cell_type": "code",
   "execution_count": 75,
   "metadata": {},
   "outputs": [
    {
     "name": "stdout",
     "output_type": "stream",
     "text": [
      "------------------------------------------------------------------------\n",
      "------------------------------------------------------------------------\n",
      "Data shape = (188087, 25654)\n",
      "****************************************** \n",
      " Cluster 0\n",
      "******************************************\n",
      "36532                                                                                                         #UCLfinal #ramos did that deliberately #cheat\n",
      "74263                                           Sergio Ramos belongs in the octagon. #ChampionsLeague #UCLFinal #ريال_مدريد_ليفربول https://t.co/lVWfNkcR5G\n",
      "35223                                                                                                                          Ramos back on duty #UCLfinal\n",
      "105569                                        What I wouldn't give for 30 minutes with Sergio Ramos...#UCLfinal    \\n\\nWait....that's not what I meant.....\n",
      "70389                            Sergio Ramos is a captain that would do anything for his team to win. Unlucky Salah. \\n\\nInteresting first half. #UCLfinal\n",
      "41444                                                                                                      Electing Ramos for 2018 most hated man #UCLFinal\n",
      "37507                                                                                                                         #UCLfinal bloody fucker ramos\n",
      "42245                                           I'm not an #LFC fan at all, but I'm pretty mad at Sergio Ramos for depriving me of more Mo Salah. #UCLFinal\n",
      "101384                                                      when you know you've a ramos that will take care of business. #UCLfinal https://t.co/KQD1pLbiyS\n",
      "51691                                                                   You can't convince me Sergio Ramos didn't know what he was doing to Salah #UCLfinal\n",
      "156470    #UCLFinale #UCLFinal# #RMALIV \\n\\nRamos: Mission Accomplished, what’s next.\\nZidane: Go get me Sadio Mane\\nRamos to Mane: https://t.co/hgrtxGaMUf\n",
      "100843                                                                                                                                 #UCLfinal I hate him\n",
      "72867                                                                                                                            Ramos is a cunt  #UCLfinal\n",
      "38933                                                                                                         Sergio Ramos is a wanker pass it on #UCLfinal\n",
      "110510                                                                                                        Ramos is part of the Illuminati.\\n\\n#UCLFinal\n",
      "****************************************** \n",
      "\n",
      "****************************************** \n",
      " Cluster 1\n",
      "******************************************\n",
      "144125                                                         Gareth Bale clearly took bicycle kick lessons from Ronaldo. FAM! WHAT. A. GOAL! 😍😍🔥🔥\\n#RMALIV #UCLfinal #HalaMadrid\n",
      "144739                                                                                                                                                      Bale goal🔥🔥🔥 #UCLfinal\n",
      "130701                                                          #UCLfinal\\nYayýyyyyyyyyyyy\\nGoal\\nGareth bale comes in for isco and scores a stunning goal https://t.co/6Jr4z3IPjf\n",
      "128168                                                                                                                    Take a bow bale, give them the trophy for that #UCLFinal\n",
      "131814                                                                                                                              What was that !!!!\\nGareth Bale wow\\n#UCLfinal\n",
      "133186                                                                                                       Gareth bale you crazy!! What a goal what a goal man amazing #UCLfinal\n",
      "128341                                                                                                                              Gareth Bale WOW #RealMadridLiverpool #UCLFinal\n",
      "161634                                                                                                                                               Bale is an Animal!! #UCLfinal\n",
      "132004                                                                                                     One crazy goal, one fantastic goal. #halamadrid #UCLfinal #UCLFinal2018\n",
      "131343                                                                                                                                             What a hit from Bale! #UCLFinal\n",
      "127650                                                                                                                                        My goodness...Gareth Bale🤯 #UCLFinal\n",
      "125027                                                                                                                                                       Bale did it #UCLfinal\n",
      "126210                                                                                                                                 That was unbelievable Gareth Bale #UCLfinal\n",
      "143224                                                                                   If you think that Bale's overhead is the best Champions League goal ever! 🙌🏻\\n\\n#UCLfinal\n",
      "135320    \"one of the best goals you will ever see—on any stage\"\\n\\nThat's what Bale just pulled off in the #UCLfinal for a 2-1 Real lead \\n\\nFollow LIVE: https://t.co/1JUNJNjeSA\n",
      "****************************************** \n",
      "\n",
      "****************************************** \n",
      " Cluster 2\n",
      "******************************************\n",
      "119492                                                                                                                                                    Dos cracks. https://t.co/cfXSlpQJUO\n",
      "2825                                                                                                                                     Here’s to a good match!\\n\\n#UCLFinal #RMALFC #RMALIV\n",
      "113767                                                                                                                                                    Man like MANE!!!!!!!!!!!! #UCLfinal\n",
      "40207     Really, really sad to see Mo Salah go off. In absolute tears is the Egyptian. Looks like a dislocated shoulder which could rule out for the start of next season. #UCLfinal #RMALIV\n",
      "42021                                                                                            even my junior sister is depressed\\nAnd my house is suddenly silent\\n\\nSalah 😭😭😭😭\\n#UCLfinal\n",
      "70365                                                                                                    Poor old Alan Green on Radio Five - he so desperately wants to be English. #UCLFINAL\n",
      "47456                                          LIVE #UCLfinal: #RealMadrid v #Liverpool. Carvajal is also injured and is heading out. Nacho is coming to replace him\\nhttps://t.co/ijYnJnEy5x\n",
      "2620                                                                                                                                         powerful women #UCLFinal https://t.co/e49dQseM18\n",
      "15370                                                                  A little history regarding Liverpool's logo \\n\\nhttps://t.co/YODWsbuvjz via @MailSport #Liverpool #UCLFinal #licensing\n",
      "154938                                                                                                                                                This accuracy 😂 https://t.co/4V6GEFFVqq\n",
      "53218                                                                                                                                      Haha exactly can’t compare https://t.co/r5rn8gPaST\n",
      "4763                                                                                                                                                       Game ONNN 💥🤘🏻#HalaMadrid #UCLFinal\n",
      "45254                                                                                                 No matter who you support, all of football should feel for Mo Salah right now #UCLfinal\n",
      "122147                                                                                                                           Okay let's see if BBC can make something happen\\n\\n#UCLFINAL\n",
      "155924                                                                                                                                           @Omar_Gaza It can wait until after #UCLfinal\n",
      "****************************************** \n",
      "\n",
      "****************************************** \n",
      " Cluster 3\n",
      "******************************************\n",
      "30708          Goosebumps! Come on you Reds! https://t.co/PqFn4u0Llh\n",
      "16810                                           Come on! 😩 #UCLfinal\n",
      "2600      C'mon reds!!! You'll never walk alone #UCLfinal #Liverpool\n",
      "30453         🔴 COME ON YOU REDS! 🔴\\n#UCLfinal #WeAreLiverpool #YNWA\n",
      "134542                Come on Liverpool.. .. https://t.co/CsYZRUJ10u\n",
      "11263                    COME ON YOU REDS!!! https://t.co/k4cKhDpg0a\n",
      "3038                    Come on you Reds @LFC ⚽🏆🎉\\n\\n#LFC  #UCLfinal\n",
      "94378                                   Bring it on REDS!! #UCLfinal\n",
      "5529               C'mon you Reds!!!!!\\n#LFC https://t.co/AGA6Gf0o71\n",
      "132860                                   Come on reds #LFC #UCLfinal\n",
      "21303                                    Liverpool come on #UCLFINAL\n",
      "9617                                     Come on Liverpool #UCLfinal\n",
      "1256                               Come on Liverpool! #UCLfinal 🔴🔴🔴🔴\n",
      "23953                 The Reds.\\n\\n#UCLfinal https://t.co/KNnmrH786D\n",
      "34846                #UCLFinal Come on Liverpool!! You can do this!!\n",
      "****************************************** \n",
      "\n",
      "****************************************** \n",
      " Cluster 4\n",
      "******************************************\n",
      "152327    wtf... Mo Salah to miss next world cup. Shoulder dislocated during #UCLfinal This is terrible.. terrible.. news. #MoSalah https://t.co/PzW25hDXA8\n",
      "154631                                               @Dianoou_ BBC reporting Salah will miss the World Cup 😢 Diagnosis now a dislocated shoulder. #UCLFinal\n",
      "174017                                                                       #UCLfinal @MoSalah to miss world cup with dislocated shoulder @Omojuwa @Ayourb\n",
      "112247                                                                                          If he did that in the World Cup.... https://t.co/uFA1RF6AtW\n",
      "175040         PQP RT @adriandelmonte: BBC reporting Salah will miss the World Cup 😢 Diagnosis now a dislocated shoulder. #UCLFinal https://t.co/5OizPnKQBX\n",
      "62780                                                                                                                  No world cup https://t.co/FuYIm5GfJu\n",
      "72249                                                                                                                     World cup https://t.co/BuHju3UkUr\n",
      "37241                                                                                            Hope he doesn’t miss the World Cup now , Salah . #UCLFinal\n",
      "156485                                                                How do you miss a while World Cup from a dislocated shoulder😐 https://t.co/a0B94ZhJ91\n",
      "122200                                                                                                            See you at the world cup Isco😊\\n#UCLFinal\n",
      "56683                                                                                                      #UCLfinal I Pray Mo Salah doesn't miss world cup\n",
      "152881    To all those Salah will miss World Cup.\\n\\nSalah is going to the World Cup. \\n\\nHe will play.\\n\\nBut not much. \\n\\n#UCLfinal \\n#salah \\n#WorldCup\n",
      "154892                                                                                                        Are you the world cup https://t.co/YlKhWYuOXl\n",
      "152032                         BBC reporting that Salah will miss the World Cup 😱😱😱😱 Diagnosis now a dislocated shoulder. #UCLFinal https://t.co/Sx0pD0t8t6\n",
      "145480                                                          If Salah will miss the world cup ,, Ramos should miss is it too\\n#FIFA\\n#MoSalah\\n#UCLfinal\n",
      "****************************************** \n",
      "\n",
      "****************************************** \n",
      " Cluster 5\n",
      "******************************************\n",
      "69165                                                                                                                                                                                                                                                                        HALFTIME- #RealMadrid 0-0 #Liverpool #UCLFinal\n",
      "8212                                                                                                                                                                       Watch Real Madrid vs Liverpool LIVE on YouTube: https://t.co/q3x5AcbEFN   #UCLfinal #UCLFinal2018 #stream #livestreaming https://t.co/coXuJJ0dtX\n",
      "5272       Real Madrid v Liverpool\\n\\nWATCH Live : https://t.co/mpW1ISdx3z\\nMobil      : https://t.co/xOHMWbxDPx\\n\\ns1k1g8 #YNWA #RealMadridLiverpool #UCLfinal #UCL #LFC #Liverpool #ChampionsLeague #ChampionsLeagueFinal #RealMadrid #RMALIV #RMALFC #allez #championsleague2018 #LFCFamily #EPL https://t.co/hihUjduK6D\n",
      "1229                                                                                                                                                                                                                              #UCLFinal ... Am not a liverpool fan, but I'd be happy with Real Madrid losing this final\n",
      "125807                                                                                                                                                                                                                                              Bale with an exceptional goal to put Madrid back on top. #LFC #UCLFinal\n",
      "123062                                             How to watch Champions League final live stream Liverpool vs Real .        \\n\\nWatch Now https://t.co/r1dTPMFwQy \\n\\nWatch Now https://t.co/r1dTPMFwQy \\n\\n#APorLa12 #UCL2018 #RealLiverpool #UCLfinal #MatchdayLive #RealmadridvsLiverpool #RealMadrid  #Believers #LFC\n",
      "176963                                                                                                                                                                                                                                   For me, Real Madrid didn't win... Bale won!\\nWorld Class Player🙌🏾👏🏽👏🏽👏🏽\\n#UCLFinal\n",
      "181010                                                                                                                                                                                                                                        Congratulations to my team! Real Madrid for life. Hala madrid ♥️\\n\\n#UCLFinal\n",
      "84506                                                                                                                                                     1981 - The last time Real Madrid have failed to score in a European Cup/Champions League final was in 1981 against... Liverpool (0-1). Memory.\\n#UCLfinal #RMALFC\n",
      "15414     Live Stream #UCLfinal\\nReal Madrid vs Liverpool Live Stream\\n\\nMobile 📱\\nhttps://t.co/VLy6I7bAJy\\nPC💻\\nhttps://t.co/VLy6I7bAJy\\napp 📱\\nhttps://t.co/VLy6I7bAJy\\n\\nLike &amp; Retweet Please ⚽️\\n#RMALIV #UCLFinal2018 #UCL #UCLFinalForFREE #LA2LA #ChampionsLeague #UEFA #futbol #soccer https://t.co/tv9tgnBmL1\n",
      "30474      Live Stream #UCLfinal\\nReal Madrid 🇪🇸vs 🏴󠁧󠁢󠁥󠁮󠁧󠁿Liverpool\\n\\nMobile 📱\\nhttps://t.co/6IFMFsMsGE\\nhttps://t.co/iP00P691ou\\nComputer 💻\\nhttps://t.co/GNDyEwSvo6 EN\\nhttps://t.co/FZm4KMx54A ES\\nhttps://t.co/aAqIdBAopq DE-IT-FR-AR\\n--------------------------\\nLike &amp; Retweet Please 🙏 https://t.co/djusnbsqcA\n",
      "151761                                                                                                                                                                                                                                                                             well real madrid is the winner #UCLfinal\n",
      "180499                                                                                                                                                                                                                                                                                     CONGRATS REAL MADRID 🎉 #UCLfinal\n",
      "144990                                                                                                                                                                                                                                                 What a great goal by Bale I love Real Madrid https://t.co/zjgac5Hfuu\n",
      "70716                                                                                                                                                                             Half time at the Olympic Stadium: Real Madrid 0 - 0 Liverpool. #UCLfinal \\n\\nLatest odds: https://t.co/ilsxez1xqu https://t.co/ZlWRqb688T\n",
      "****************************************** \n",
      "\n",
      "------------------------------------------------------------------------\n",
      "------------------------------------------------------------------------\n",
      "\n",
      "\n",
      "\n"
     ]
    }
   ],
   "source": [
    "# Print a number of tweets for each cluster\n",
    "y = pd.Series(y_kmeans)\n",
    "df_tweet_y = pd.DataFrame(en_tweets_df[en_tweets_df['is_retweet']==False])\n",
    "df_tweet_y['y'] = pd.Series(y)\n",
    "\n",
    "pd.set_option('display.max_colwidth', None)\n",
    "\n",
    "print(f'------------------------------------------------------------------------')\n",
    "print(f'------------------------------------------------------------------------')\n",
    "# print(f'k = {k} ---- Number of FT cols = {num_of_FT_cols}')\n",
    "print(f'Data shape = {X.shape}')\n",
    "\n",
    "for i in range(0, 6):\n",
    "    print(f'****************************************** \\n Cluster {i}')\n",
    "    print('******************************************')\n",
    "    print(df_tweet_y['tweet_text'][(df_tweet_y['y'] == i)].sample(15).to_string())\n",
    "    print('****************************************** \\n')\n",
    "\n",
    "print(f'------------------------------------------------------------------------')\n",
    "print(f'------------------------------------------------------------------------\\n\\n\\n')"
   ]
  },
  {
   "cell_type": "code",
   "execution_count": 65,
   "metadata": {},
   "outputs": [
    {
     "ename": "TypeError",
     "evalue": "PCA does not support sparse input. See TruncatedSVD for a possible alternative.",
     "output_type": "error",
     "traceback": [
      "\u001b[0;31m---------------------------------------------------------------------------\u001b[0m",
      "\u001b[0;31mTypeError\u001b[0m                                 Traceback (most recent call last)",
      "\u001b[0;32m<ipython-input-65-e393fe74c6f6>\u001b[0m in \u001b[0;36m<module>\u001b[0;34m\u001b[0m\n\u001b[1;32m      7\u001b[0m \u001b[0;34m\u001b[0m\u001b[0m\n\u001b[1;32m      8\u001b[0m \u001b[0;31m### Run PCA on the data and reduce the dimensions in pca_num_components dimensions\u001b[0m\u001b[0;34m\u001b[0m\u001b[0;34m\u001b[0m\u001b[0;34m\u001b[0m\u001b[0m\n\u001b[0;32m----> 9\u001b[0;31m \u001b[0mreduced_data\u001b[0m \u001b[0;34m=\u001b[0m \u001b[0mPCA\u001b[0m\u001b[0;34m(\u001b[0m\u001b[0mn_components\u001b[0m\u001b[0;34m=\u001b[0m\u001b[0;36m2\u001b[0m\u001b[0;34m)\u001b[0m\u001b[0;34m.\u001b[0m\u001b[0mfit_transform\u001b[0m\u001b[0;34m(\u001b[0m\u001b[0mX\u001b[0m\u001b[0;34m)\u001b[0m\u001b[0;34m\u001b[0m\u001b[0;34m\u001b[0m\u001b[0m\n\u001b[0m\u001b[1;32m     10\u001b[0m \u001b[0mresults\u001b[0m \u001b[0;34m=\u001b[0m \u001b[0mpd\u001b[0m\u001b[0;34m.\u001b[0m\u001b[0mDataFrame\u001b[0m\u001b[0;34m(\u001b[0m\u001b[0mreduced_data\u001b[0m\u001b[0;34m,\u001b[0m\u001b[0mcolumns\u001b[0m\u001b[0;34m=\u001b[0m\u001b[0;34m[\u001b[0m\u001b[0;34m'pca1'\u001b[0m\u001b[0;34m,\u001b[0m\u001b[0;34m'pca2'\u001b[0m\u001b[0;34m]\u001b[0m\u001b[0;34m)\u001b[0m\u001b[0;34m\u001b[0m\u001b[0;34m\u001b[0m\u001b[0m\n\u001b[1;32m     11\u001b[0m \u001b[0;34m\u001b[0m\u001b[0m\n",
      "\u001b[0;32m/opt/conda/lib/python3.7/site-packages/sklearn/decomposition/_pca.py\u001b[0m in \u001b[0;36mfit_transform\u001b[0;34m(self, X, y)\u001b[0m\n\u001b[1;32m    374\u001b[0m         \u001b[0mC\u001b[0m\u001b[0;34m-\u001b[0m\u001b[0mordered\u001b[0m \u001b[0marray\u001b[0m\u001b[0;34m,\u001b[0m \u001b[0muse\u001b[0m \u001b[0;34m'np.ascontiguousarray'\u001b[0m\u001b[0;34m.\u001b[0m\u001b[0;34m\u001b[0m\u001b[0;34m\u001b[0m\u001b[0m\n\u001b[1;32m    375\u001b[0m         \"\"\"\n\u001b[0;32m--> 376\u001b[0;31m         \u001b[0mU\u001b[0m\u001b[0;34m,\u001b[0m \u001b[0mS\u001b[0m\u001b[0;34m,\u001b[0m \u001b[0mV\u001b[0m \u001b[0;34m=\u001b[0m \u001b[0mself\u001b[0m\u001b[0;34m.\u001b[0m\u001b[0m_fit\u001b[0m\u001b[0;34m(\u001b[0m\u001b[0mX\u001b[0m\u001b[0;34m)\u001b[0m\u001b[0;34m\u001b[0m\u001b[0;34m\u001b[0m\u001b[0m\n\u001b[0m\u001b[1;32m    377\u001b[0m         \u001b[0mU\u001b[0m \u001b[0;34m=\u001b[0m \u001b[0mU\u001b[0m\u001b[0;34m[\u001b[0m\u001b[0;34m:\u001b[0m\u001b[0;34m,\u001b[0m \u001b[0;34m:\u001b[0m\u001b[0mself\u001b[0m\u001b[0;34m.\u001b[0m\u001b[0mn_components_\u001b[0m\u001b[0;34m]\u001b[0m\u001b[0;34m\u001b[0m\u001b[0;34m\u001b[0m\u001b[0m\n\u001b[1;32m    378\u001b[0m \u001b[0;34m\u001b[0m\u001b[0m\n",
      "\u001b[0;32m/opt/conda/lib/python3.7/site-packages/sklearn/decomposition/_pca.py\u001b[0m in \u001b[0;36m_fit\u001b[0;34m(self, X)\u001b[0m\n\u001b[1;32m    392\u001b[0m         \u001b[0;31m# This is more informative than the generic one raised by check_array.\u001b[0m\u001b[0;34m\u001b[0m\u001b[0;34m\u001b[0m\u001b[0;34m\u001b[0m\u001b[0m\n\u001b[1;32m    393\u001b[0m         \u001b[0;32mif\u001b[0m \u001b[0missparse\u001b[0m\u001b[0;34m(\u001b[0m\u001b[0mX\u001b[0m\u001b[0;34m)\u001b[0m\u001b[0;34m:\u001b[0m\u001b[0;34m\u001b[0m\u001b[0;34m\u001b[0m\u001b[0m\n\u001b[0;32m--> 394\u001b[0;31m             raise TypeError('PCA does not support sparse input. See '\n\u001b[0m\u001b[1;32m    395\u001b[0m                             'TruncatedSVD for a possible alternative.')\n\u001b[1;32m    396\u001b[0m \u001b[0;34m\u001b[0m\u001b[0m\n",
      "\u001b[0;31mTypeError\u001b[0m: PCA does not support sparse input. See TruncatedSVD for a possible alternative."
     ]
    }
   ],
   "source": [
    "### Run PCA on the data and reduce the dimensions in pca_num_components dimensions\n",
    "reduced_data = PCA(n_components=2).fit_transform(X)\n",
    "results = pd.DataFrame(reduced_data,columns=['pca1','pca2'])\n",
    "\n",
    "plt.figure(figsize=(40,30))\n",
    "sns.scatterplot(x=\"pca1\", y=\"pca2\", hue=y_kmeans, data=results)\n",
    "plt.title('K-means Clustering')\n",
    "plt.show()"
   ]
  },
  {
   "cell_type": "code",
   "execution_count": null,
   "metadata": {},
   "outputs": [],
   "source": [
    "# # Identify the optimal number of clusters (k), also considering the number of feature columns. This should assist in review of the cluster samples output.\n",
    "# pd.options.mode.chained_assignment = None  # default='warn'\n",
    "# K = range(3, 11)\n",
    "# for num_of_FT_cols in range(25, 251, 25):\n",
    "#     distortions = []\n",
    "#     for k in K:\n",
    "#         # Create X ensuring only records that have at least one of the features are included\n",
    "#         X = en_tweets_df_with_features[cols[:num_of_FT_cols]]\n",
    "#         X['sum_of_FT_cols'] = X.sum(axis=1)\n",
    "#         X = X[cols[:num_of_FT_cols]][X['sum_of_FT_cols'] != 0]\n",
    "\n",
    "#         X_scaled = preprocessing.scale(X)\n",
    "\n",
    "#         # Fit and predict model\n",
    "#         kmeans = KMeans(n_clusters=k, random_state=8)\n",
    "#         kmeans.fit(X_scaled)\n",
    "#         distortions.append(kmeans.inertia_)\n",
    "        \n",
    "#     plt.figure(figsize=(10, 5))\n",
    "#     plt.plot(K, distortions, 'bx-')\n",
    "#     plt.xlabel('k')\n",
    "#     plt.ylabel('Distortion')\n",
    "#     plt.title(f'The Elbow Method showing the optimal k with {num_of_FT_cols} feature columns')\n",
    "#     plt.show()"
   ]
  },
  {
   "cell_type": "code",
   "execution_count": 50,
   "metadata": {},
   "outputs": [],
   "source": [
    "# Based on the above diagrams 7 clusters with 225 looks like it could hold some insights\n",
    "# Create X ensuring only records that have at least one of the features are included\n",
    "# k = 6\n",
    "# X = en_tweets_df[cols]\n",
    "# # X['sum_of_FT_cols'] = X.sum(axis=1)\n",
    "# # X = X[cols][X['sum_of_FT_cols'] != 0]\n",
    "\n",
    "# # Fit and predict model\n",
    "# kmeans = KMeans(n_clusters=k, random_state=8)\n",
    "# kmeans.fit(X)\n",
    "# y_kmeans = kmeans.predict(X)"
   ]
  },
  {
   "cell_type": "code",
   "execution_count": 53,
   "metadata": {
    "collapsed": true,
    "jupyter": {
     "outputs_hidden": true
    }
   },
   "outputs": [
    {
     "name": "stdout",
     "output_type": "stream",
     "text": [
      "------------------------------------------------------------------------\n",
      "------------------------------------------------------------------------\n",
      "Data shape = (188087, 772)\n",
      "****************************************** \n",
      " Cluster 0\n",
      "******************************************\n",
      "156428                          RT @itsnotJesusXO: Fuck football. Fuck this game. Fuck Real Madrid. Fuck their referees. Fuck UEFA. https://t.co/naqHnqpS7U\n",
      "82900         RT @TOKOYVMI: FUCK RAMOS FUCK RAMOS FUCK RAMOS FUCK RAMOS FUCK RAMOS FUCK RAMOS FUCK RAMOS FUCK RAMOS FUCK RAMOS FUCK RAMOS\\nFUCK RAMOS FUCK…\n",
      "54364         RT @TOKOYVMI: FUCK RAMOS FUCK RAMOS FUCK RAMOS FUCK RAMOS FUCK RAMOS FUCK RAMOS FUCK RAMOS FUCK RAMOS FUCK RAMOS FUCK RAMOS\\nFUCK RAMOS FUCK…\n",
      "73296         RT @Samuel14122417: FUCK RAMOS FUCK RAMOS FUCK RAMOS FUCK RAMOS FUCK RAMOS FUCK RAMOS FUCK RAMOS FUCK RAMOS FUCK RAMOS FUCK RAMOS\\nFUCK RAMO…\n",
      "52887     RT @JrMoe_: FUCK YOU, SERGIO RAMOS\\nFUCK YOU, SERGIO RAMOS\\nFUCK YOU, SERGIO RAMOS\\nFUCK YOU, SERGIO RAMOS\\nFUCK YOU, SERGIO RAMOS\\nFUCK YOU, SE…\n",
      "90586     RT @JrMoe_: FUCK YOU, SERGIO RAMOS\\nFUCK YOU, SERGIO RAMOS\\nFUCK YOU, SERGIO RAMOS\\nFUCK YOU, SERGIO RAMOS\\nFUCK YOU, SERGIO RAMOS\\nFUCK YOU, SE…\n",
      "135849                          RT @itsnotJesusXO: Fuck football. Fuck this game. Fuck Real Madrid. Fuck their referees. Fuck UEFA. https://t.co/naqHnqpS7U\n",
      "46160         RT @TOKOYVMI: FUCK RAMOS FUCK RAMOS FUCK RAMOS FUCK RAMOS FUCK RAMOS FUCK RAMOS FUCK RAMOS FUCK RAMOS FUCK RAMOS FUCK RAMOS\\nFUCK RAMOS FUCK…\n",
      "82324     RT @JrMoe_: FUCK YOU, SERGIO RAMOS\\nFUCK YOU, SERGIO RAMOS\\nFUCK YOU, SERGIO RAMOS\\nFUCK YOU, SERGIO RAMOS\\nFUCK YOU, SERGIO RAMOS\\nFUCK YOU, SE…\n",
      "74578         RT @TOKOYVMI: FUCK RAMOS FUCK RAMOS FUCK RAMOS FUCK RAMOS FUCK RAMOS FUCK RAMOS FUCK RAMOS FUCK RAMOS FUCK RAMOS FUCK RAMOS\\nFUCK RAMOS FUCK…\n",
      "42005     RT @JrMoe_: FUCK YOU, SERGIO RAMOS\\nFUCK YOU, SERGIO RAMOS\\nFUCK YOU, SERGIO RAMOS\\nFUCK YOU, SERGIO RAMOS\\nFUCK YOU, SERGIO RAMOS\\nFUCK YOU, SE…\n",
      "60418     RT @JrMoe_: FUCK YOU, SERGIO RAMOS\\nFUCK YOU, SERGIO RAMOS\\nFUCK YOU, SERGIO RAMOS\\nFUCK YOU, SERGIO RAMOS\\nFUCK YOU, SERGIO RAMOS\\nFUCK YOU, SE…\n",
      "86304     RT @JrMoe_: FUCK YOU, SERGIO RAMOS\\nFUCK YOU, SERGIO RAMOS\\nFUCK YOU, SERGIO RAMOS\\nFUCK YOU, SERGIO RAMOS\\nFUCK YOU, SERGIO RAMOS\\nFUCK YOU, SE…\n",
      "127356                          RT @itsnotJesusXO: Fuck football. Fuck this game. Fuck Real Madrid. Fuck their referees. Fuck UEFA. https://t.co/naqHnqpS7U\n",
      "145318    RT @JrMoe_: FUCK YOU, SERGIO RAMOS\\nFUCK YOU, SERGIO RAMOS\\nFUCK YOU, SERGIO RAMOS\\nFUCK YOU, SERGIO RAMOS\\nFUCK YOU, SERGIO RAMOS\\nFUCK YOU, SE…\n",
      "****************************************** \n",
      "\n",
      "****************************************** \n",
      " Cluster 1\n",
      "******************************************\n",
      "44239                                                                                                                                           RT @actor_Nikhil: Sergio Ramos you Foul mouthed Unsportive Ruffian... That Injury on Mohammed salah was obviously on purpose... Real Madrid…\n",
      "79101                                                                                                                                                                                  RT @MoSalahFacts: No one wants to see what happened to Mo Salah ☹️💔 #UCLFinal https://t.co/l0BgAuV8Xl\n",
      "55347                                                                                                                                                                                                                          Salah😥😥\\nCarvajal 😥😥\\nWelcome to UEFA Crying Final\\n#UCLfinal\n",
      "117659                                                                                                                                                   RT @iam__Shoaib: Egyptians Coming for Sergio Ramos If Mo Salah Misses the World Cup #UCLFinal #UCLFinal2018 https://t.co/3Hcn8zxAtR\n",
      "58186                                                                                                                                                                                  RT @MoSalahFacts: No one wants to see what happened to Mo Salah ☹️💔 #UCLFinal https://t.co/l0BgAuV8Xl\n",
      "96447                                                                                                                                                                                       RT @mikeogle3110: Zidane to Ramos before the #UCLfinal on #Salah tactics https://t.co/uekyFzfMne\n",
      "97272     Once upon a time a dog called  @SergioRamos wanted to hurt an EGYPTIAN KING called @MoSalah with the help of a bribed @ChampionsLeague 's referee, but the king should never shed a tear❤ he'll always be shinning bright like such bitches will never be😉 #كلنا_ليفربول #UCLfinal\n",
      "113318                                                                                                                                                                                                           RT @ESPNFC: Heartbreak for Mohamed Salah. #UCLfinal https://t.co/Rc7muDpzPt\n",
      "10401                                                                                                                                                                                                                                                            That was close.\\n #UCLfinal\n",
      "140364                                                                                                                                                                                          RT @Livesignings: Absolute stunner from Gareth Bale in the #UCLFinal https://t.co/fDPDAKcu3V\n",
      "184704                                                                                                                                          RT @grande1899: Congrats to Real Madrid I guess but can they like be denied entry in next year's Chapmions League? It's kinda getting borin…\n",
      "87914                                                                                                                                                                                                                        RT @TrollFootball: The #UCLFinal so far https://t.co/UtSqALA4Ia\n",
      "47257                                                                                                                                                                                                           RT @FourFourTweet: Absolutely gutting. \\n\\n#UCLfinal https://t.co/rgZ7L5J1Yg\n",
      "20941                                                                                                                                                                                                             Now that I am watching this #UCLfinal I donno who am rooting for. Haaaaaaa\n",
      "166755                                                                                                                                                                                                                                  Karius finna be Madrid's Man of the Match. #UCLfinal\n",
      "****************************************** \n",
      "\n",
      "****************************************** \n",
      " Cluster 2\n",
      "******************************************\n",
      "89820     RT @MaddockMirror: Honestly, that was a disgrace from Sergio Ramos. He's ended @MoSalah's night, and possibly his World Cup with a cynical,…\n",
      "156960    RT @MaddockMirror: Honestly, that was a disgrace from Sergio Ramos. He's ended @MoSalah's night, and possibly his World Cup with a cynical,…\n",
      "76241     RT @MaddockMirror: Honestly, that was a disgrace from Sergio Ramos. He's ended @MoSalah's night, and possibly his World Cup with a cynical,…\n",
      "47182     RT @MaddockMirror: Honestly, that was a disgrace from Sergio Ramos. He's ended @MoSalah's night, and possibly his World Cup with a cynical,…\n",
      "110175    RT @MaddockMirror: Honestly, that was a disgrace from Sergio Ramos. He's ended @MoSalah's night, and possibly his World Cup with a cynical,…\n",
      "86824     RT @MaddockMirror: Honestly, that was a disgrace from Sergio Ramos. He's ended @MoSalah's night, and possibly his World Cup with a cynical,…\n",
      "83852     RT @MaddockMirror: Honestly, that was a disgrace from Sergio Ramos. He's ended @MoSalah's night, and possibly his World Cup with a cynical,…\n",
      "80527     RT @MaddockMirror: Honestly, that was a disgrace from Sergio Ramos. He's ended @MoSalah's night, and possibly his World Cup with a cynical,…\n",
      "121861    RT @MaddockMirror: Honestly, that was a disgrace from Sergio Ramos. He's ended @MoSalah's night, and possibly his World Cup with a cynical,…\n",
      "168913    RT @MaddockMirror: Honestly, that was a disgrace from Sergio Ramos. He's ended @MoSalah's night, and possibly his World Cup with a cynical,…\n",
      "90921     RT @MaddockMirror: Honestly, that was a disgrace from Sergio Ramos. He's ended @MoSalah's night, and possibly his World Cup with a cynical,…\n",
      "78236     RT @MaddockMirror: Honestly, that was a disgrace from Sergio Ramos. He's ended @MoSalah's night, and possibly his World Cup with a cynical,…\n",
      "85495     RT @MaddockMirror: Honestly, that was a disgrace from Sergio Ramos. He's ended @MoSalah's night, and possibly his World Cup with a cynical,…\n",
      "82726     RT @MaddockMirror: Honestly, that was a disgrace from Sergio Ramos. He's ended @MoSalah's night, and possibly his World Cup with a cynical,…\n",
      "169883    RT @MaddockMirror: Honestly, that was a disgrace from Sergio Ramos. He's ended @MoSalah's night, and possibly his World Cup with a cynical,…\n",
      "****************************************** \n",
      "\n",
      "****************************************** \n",
      " Cluster 3\n",
      "******************************************\n",
      "187576                                                   Mo Salah to miss World cup due to dislocated shoulder 😢 #UCLfinal https://t.co/8FWOnAUHjh\n",
      "153681    RT @adriandelmonte: BBC reporting Salah will miss the World Cup 😢 Diagnosis now a dislocated shoulder. #UCLFinal https://t.co/05Yc7HXwKW\n",
      "127040    RT @adriandelmonte: BBC reporting Salah will miss the World Cup 😢 Diagnosis now a dislocated shoulder. #UCLFinal https://t.co/05Yc7HXwKW\n",
      "149271    RT @adriandelmonte: BBC reporting Salah will miss the World Cup 😢 Diagnosis now a dislocated shoulder. #UCLFinal https://t.co/05Yc7HXwKW\n",
      "177293    RT @adriandelmonte: BBC reporting Salah will miss the World Cup 😢 Diagnosis now a dislocated shoulder. #UCLFinal https://t.co/05Yc7HXwKW\n",
      "152026    RT @adriandelmonte: BBC reporting Salah will miss the World Cup 😢 Diagnosis now a dislocated shoulder. #UCLFinal https://t.co/05Yc7HXwKW\n",
      "172139    RT @adriandelmonte: BBC reporting Salah will miss the World Cup 😢 Diagnosis now a dislocated shoulder. #UCLFinal https://t.co/05Yc7HXwKW\n",
      "161035    RT @adriandelmonte: BBC reporting Salah will miss the World Cup 😢 Diagnosis now a dislocated shoulder. #UCLFinal https://t.co/05Yc7HXwKW\n",
      "155662    RT @adriandelmonte: BBC reporting Salah will miss the World Cup 😢 Diagnosis now a dislocated shoulder. #UCLFinal https://t.co/05Yc7HXwKW\n",
      "128412    RT @adriandelmonte: BBC reporting Salah will miss the World Cup 😢 Diagnosis now a dislocated shoulder. #UCLFinal https://t.co/05Yc7HXwKW\n",
      "175129    RT @adriandelmonte: BBC reporting Salah will miss the World Cup 😢 Diagnosis now a dislocated shoulder. #UCLFinal https://t.co/05Yc7HXwKW\n",
      "169355    RT @adriandelmonte: BBC reporting Salah will miss the World Cup 😢 Diagnosis now a dislocated shoulder. #UCLFinal https://t.co/05Yc7HXwKW\n",
      "171865    RT @adriandelmonte: BBC reporting Salah will miss the World Cup 😢 Diagnosis now a dislocated shoulder. #UCLFinal https://t.co/05Yc7HXwKW\n",
      "155145    RT @adriandelmonte: BBC reporting Salah will miss the World Cup 😢 Diagnosis now a dislocated shoulder. #UCLFinal https://t.co/05Yc7HXwKW\n",
      "182739    RT @adriandelmonte: BBC reporting Salah will miss the World Cup 😢 Diagnosis now a dislocated shoulder. #UCLFinal https://t.co/05Yc7HXwKW\n",
      "****************************************** \n",
      "\n",
      "****************************************** \n",
      " Cluster 4\n",
      "******************************************\n",
      "182245                                            RT @RussWWFC: BT SPORT COMMENTARY ‘There’s an idiot on the field’ Yeah, playing in goal for Liverpool #UCLFINAL\n",
      "182537                                                                                                #UCLfinal  SEK MILK SPORTS AND SPORTS FRIENDLY FRIEND#TATGD\n",
      "164647                                                Extraordinary sporting skills from Gareth Bale and equally but absurd permormance by Loris Karius #UCLfinal\n",
      "35758                                                                                        Is there even a sport with less sportmanship than football #UCLFinal\n",
      "82596                                                                 Doesn't BT Sport know you can't play Gerrard &amp; Lampard together in the middle #UCLfinal\n",
      "51898                                                                                RT @ATPradio: Serio Ramos is a discrace to the sport. That is all. #UCLFinal\n",
      "96119            RT @imranshahzad11: Devil's Work done by Sergio Ramos\\nHe is an utter disgrace to the Professionalism and Sporting Spirit\\n#RMALIV\\n#Salah\\n#UC…\n",
      "5238           RT @amalabdulelah: BT Sport watch now \\n\\nLiverpool vs Real Madrid \\n\\nLive Stream HD : https://t.co/IhB9hUUbiN \\n\\n#UCLfinal https://t.co/q1kIP7…\n",
      "152121        RT @DLRbrts: 👀\\n\\nReal Madrid vs Liverpool live on BT Sport (@btsportfootball) Tweeted:\\nThis is the best goal EVER in a final. \\n\\nPeriod. \\n\\nIn…\n",
      "49727                                                               there’s no other sport like football\\n\\nthe emotions, the passion is just unmatched #UCLFinal\n",
      "110986                                                                                                  This sport is ridiculous. All diving. Jesus.\\n\\n#UCLfinal\n",
      "20937     The true cost of a free live stream of the #UCLfinal is having to listen to Fox Sports and Americans doing the colour. #nobodywins #RealMadridLiverpool\n",
      "110682                                                                                                    RT @sprusina: Hi forever sports blooper reel. #UCLFinal\n",
      "49303                                                                                RT @ATPradio: Serio Ramos is a discrace to the sport. That is all. #UCLFinal\n",
      "86836                                                  RT @ChinksChinks_: Heart broken women workin overtime. Can’t watch sports in peace https://t.co/vH3Lql7tGb\n",
      "****************************************** \n",
      "\n",
      "****************************************** \n",
      " Cluster 5\n",
      "******************************************\n",
      "22124                                                                                                                      RT @FutbalStreaming: Real Madrid vs Liverpool\\n\\nUCL FINAL!!\\nStream 2\\nPLS RETWEET AND FOLLOW\\n#RMALIV #UCLfinal #ChampionsLeagueFinal \\n https:…\n",
      "118991                                                                                                                      RT @PrivateCrow_9: Real vs PSG ... No Neymar\\nReal vs Juve ... No Dybala\\nReal vs Bayern ... No Robben\\nReal vs Liverpool ... No Salah \\n\\nAnd l…\n",
      "16317                                                                                                                       #Liverpool Vs #Madrid #UCLfinal\\n\\n=======&gt;&gt;&gt;&gt; https://t.co/4dDouQLH78  \\n\\n#UEFAChampionsLeagueFinal2018\\n\\nOver 0.5 FH Goals @ 1.50\n",
      "99636                                                                                                                Live Now 🖥\\n\\nReal Madrid vs Liverpool \\n\\nLive Stream 🎥 https://t.co/w6XJVqcL35 …\\n\\n#RMALIV #UCLfinal     #RealMadridLiverpool https://t.co/iBZozY2rF6\n",
      "38469                                                                                                                        RT @20swaagg59: Real Madrid vs Liverpool\\n\\nLink Live Stream Full HD : https://t.co/bPafeDp6UO\\n\\n#Matchday  #UCLfinal #UCL  #Cristiano  #MomoS…\n",
      "106780                                                                                                                      RT @PrivateCrow_9: Real vs PSG ... No Neymar\\nReal vs Juve ... No Dybala\\nReal vs Bayern ... No Robben\\nReal vs Liverpool ... No Salah \\n\\nAnd l…\n",
      "29319                                                                                                                        RT @17salma45_s: Real Madrid vs Liverpool\\n\\nLink Live Stream Full HD : https://t.co/EkZN9yBZMN\\n\\n#Matchday  #UCLfinal #UCL  #Cristiano  #Momo…\n",
      "106958                                                                                                                       RT @verdelldidy: Real Madrid vs Liverpool\\n\\nLink Live Stream Full HD : https://t.co/Yv55pjgXOx\\n\\n#Matchday  #UCLfinal #UCL  #Cristiano  #Momo…\n",
      "155724                                                                                                                       RT @8_1salma: Real Madrid vs Liverpool\\n\\nLink Live Stream Full HD : https://t.co/QO9MMxofOp\\n\\n#Matchday  #UCLfinal #UCL  #Cristiano  #MomoSal…\n",
      "70909                                                                                                                      RT @FutbalStreaming: Real Madrid vs Liverpool\\n\\nUCL FINAL!!\\nStream 2\\nPLS RETWEET AND FOLLOW\\n#RMALIV #UCLfinal #ChampionsLeagueFinal \\n https:…\n",
      "172147                                                                                                                      RT @PrivateCrow_9: Real vs PSG ... No Neymar\\nReal vs Juve ... No Dybala\\nReal vs Bayern ... No Robben\\nReal vs Liverpool ... No Salah \\n\\nAnd l…\n",
      "29999                                                                                                                                         Real Madrid vs Liverpool: TV channel, live stream\\n\\nhttps://t.co/p9nQpOyduf\\n#UCLFinal #LiverpoolVsRealMadrid #realmadrid #LFC\n",
      "88100                                                                                                                       RT @Themangonn: Real vs PSG ... No Neymar\\nReal vs Juve ... No Dybala\\nReal vs Bayern ... No Robben\\nReal vs Liverpool ... No Salah \\n\\nAnd let'…\n",
      "65091                                                                                                                       RT @PrivateCrow_9: Real vs PSG ... No Neymar\\nReal vs Juve ... No Dybala\\nReal vs Bayern ... No Robben\\nReal vs Liverpool ... No Salah \\n\\nAnd l…\n",
      "14235     Liverpool vs Real Madrid live stream online, TV channel\\n#RMLIV Live\\nWATCH LIVE ►►► https://t.co/5z1gSXftyy \\n\\nLIVE ►►► https://t.co/5z1gSXftyy \\nReal Madrid vs Liverpool live stream\\n#UCLfinal Live #UCL  #RealMadrid #UCLfinal2018 #Liverpool #LFC #RM #RMLFC\n",
      "****************************************** \n",
      "\n",
      "------------------------------------------------------------------------\n",
      "------------------------------------------------------------------------\n",
      "\n",
      "\n",
      "\n"
     ]
    }
   ],
   "source": [
    "# Print a number of tweets for each cluster\n",
    "y = pd.Series(y_kmeans)\n",
    "df_tweet_y = pd.DataFrame(en_tweets_df)\n",
    "df_tweet_y['y'] = pd.Series(y)\n",
    "\n",
    "pd.set_option('display.max_colwidth', None)\n",
    "\n",
    "print(f'------------------------------------------------------------------------')\n",
    "print(f'------------------------------------------------------------------------')\n",
    "# print(f'k = {k} ---- Number of FT cols = {num_of_FT_cols}')\n",
    "print(f'Data shape = {X.shape}')\n",
    "\n",
    "for i in range(0, k):\n",
    "    print(f'****************************************** \\n Cluster {i}')\n",
    "    print('******************************************')\n",
    "    print(df_tweet_y['tweet_text'][(df_tweet_y['y'] == i)].sample(15).to_string())\n",
    "    print('****************************************** \\n')\n",
    "\n",
    "print(f'------------------------------------------------------------------------')\n",
    "print(f'------------------------------------------------------------------------\\n\\n\\n')"
   ]
  },
  {
   "cell_type": "code",
   "execution_count": null,
   "metadata": {},
   "outputs": [],
   "source": []
  },
  {
   "cell_type": "code",
   "execution_count": null,
   "metadata": {},
   "outputs": [],
   "source": []
  },
  {
   "cell_type": "code",
   "execution_count": null,
   "metadata": {},
   "outputs": [],
   "source": [
    "# Return 3 - 10 clusters for cummulative sets of 25 columns, the first 25 are the most common words\n",
    "for k in range(3, 11):\n",
    "    for num_of_FT_cols in range(25, 501, 25):\n",
    "        # Create X ensuring only records that have at least one of the features are included\n",
    "        X = en_tweets_df_with_features[cols[:num_of_FT_cols]]\n",
    "        X['sum_of_FT_cols'] = X.sum(axis=1)\n",
    "        X = X[cols[:num_of_FT_cols]][X['sum_of_FT_cols'] != 0]\n",
    "\n",
    "        # Fit and predict model\n",
    "        kmeans = KMeans(n_clusters=k, random_state=8)\n",
    "        kmeans.fit(X)\n",
    "        y_kmeans = kmeans.predict(X)\n",
    "        \n",
    "        # Print a number of tweets for each cluster\n",
    "        y = pd.Series(y_kmeans)\n",
    "        df_tweet_y = pd.DataFrame(en_tweets_df_with_features)\n",
    "        df_tweet_y['y'] = pd.Series(y)\n",
    "\n",
    "        pd.set_option('display.max_colwidth', None)\n",
    "        \n",
    "        print(f'------------------------------------------------------------------------')\n",
    "        print(f'------------------------------------------------------------------------')\n",
    "        print(f'k = {k} ---- Number of FT cols = {num_of_FT_cols}')\n",
    "        print(f'Data shape = {X.shape}')\n",
    "\n",
    "        for i in range(0, k):\n",
    "            print(f'****************************************** \\n Cluster {i}')\n",
    "            print('******************************************')\n",
    "            print(df_tweet_y['tweet_text'][(df_tweet_y['y'] == i) & (df_tweet_y['is_retweet'] == False)].sample(5).to_string())\n",
    "            print('****************************************** \\n')\n",
    "            \n",
    "        print(f'------------------------------------------------------------------------')\n",
    "        print(f'------------------------------------------------------------------------\\n\\n\\n')"
   ]
  },
  {
   "cell_type": "code",
   "execution_count": null,
   "metadata": {},
   "outputs": [],
   "source": []
  },
  {
   "cell_type": "code",
   "execution_count": null,
   "metadata": {},
   "outputs": [],
   "source": []
  },
  {
   "cell_type": "code",
   "execution_count": null,
   "metadata": {},
   "outputs": [],
   "source": []
  },
  {
   "cell_type": "code",
   "execution_count": null,
   "metadata": {},
   "outputs": [],
   "source": []
  },
  {
   "cell_type": "code",
   "execution_count": null,
   "metadata": {},
   "outputs": [],
   "source": []
  },
  {
   "cell_type": "code",
   "execution_count": null,
   "metadata": {},
   "outputs": [],
   "source": []
  },
  {
   "cell_type": "code",
   "execution_count": null,
   "metadata": {},
   "outputs": [],
   "source": []
  },
  {
   "cell_type": "code",
   "execution_count": null,
   "metadata": {},
   "outputs": [],
   "source": []
  },
  {
   "cell_type": "markdown",
   "metadata": {},
   "source": [
    "# ------------------------------------------------------------------------------------\n",
    "# ------------------------------------------------------------------------------------\n",
    "# ------------------------------------------------------------------------------------\n",
    "# ------------------------------------------------------------------------------------\n",
    "# ------------------------------------------------------------------------------------\n",
    "# ------------------------------------------------------------------------------------\n",
    "# ------------------------------------------------------------------------------------\n",
    "# Useful snippets etc."
   ]
  },
  {
   "cell_type": "code",
   "execution_count": null,
   "metadata": {},
   "outputs": [],
   "source": [
    "###############################################################\n",
    "# Memory usage https://stackoverflow.com/questions/16261240/releasing-memory-of-huge-numpy-array-in-ipython/16278056\n",
    "import sys\n",
    "def sizeof_fmt(num, suffix='B'):\n",
    "    ''' by Fred Cirera,  https://stackoverflow.com/a/1094933/1870254, modified'''\n",
    "    for unit in ['','Ki','Mi','Gi','Ti','Pi','Ei','Zi']:\n",
    "        if abs(num) < 1024.0:\n",
    "            return \"%3.1f %s%s\" % (num, unit, suffix)\n",
    "        num /= 1024.0\n",
    "    return \"%.1f %s%s\" % (num, 'Yi', suffix)\n",
    "\n",
    "for name, size in sorted(((name, sys.getsizeof(value)) for name, value in locals().items()),\n",
    "                         key= lambda x: -x[1])[:10]:\n",
    "    print(\"{:>30}: {:>8}\".format(name, sizeof_fmt(size)))"
   ]
  },
  {
   "cell_type": "code",
   "execution_count": null,
   "metadata": {},
   "outputs": [],
   "source": []
  }
 ],
 "metadata": {
  "environment": {
   "name": "common-cpu.m55",
   "type": "gcloud",
   "uri": "gcr.io/deeplearning-platform-release/base-cpu:m55"
  },
  "kernelspec": {
   "display_name": "Python 3",
   "language": "python",
   "name": "python3"
  },
  "language_info": {
   "codemirror_mode": {
    "name": "ipython",
    "version": 3
   },
   "file_extension": ".py",
   "mimetype": "text/x-python",
   "name": "python",
   "nbconvert_exporter": "python",
   "pygments_lexer": "ipython3",
   "version": "3.7.8"
  }
 },
 "nbformat": 4,
 "nbformat_minor": 4
}
